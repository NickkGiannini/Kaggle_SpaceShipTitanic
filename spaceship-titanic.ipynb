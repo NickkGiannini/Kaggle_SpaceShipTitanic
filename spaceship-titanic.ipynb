{
 "cells": [
  {
   "cell_type": "code",
   "execution_count": 1,
   "id": "0ea4539d",
   "metadata": {
    "_cell_guid": "b1076dfc-b9ad-4769-8c92-a6c4dae69d19",
    "_uuid": "8f2839f25d086af736a60e9eeb907d3b93b6e0e5",
    "execution": {
     "iopub.execute_input": "2025-05-31T09:19:55.414706Z",
     "iopub.status.busy": "2025-05-31T09:19:55.414289Z",
     "iopub.status.idle": "2025-05-31T09:19:59.679217Z",
     "shell.execute_reply": "2025-05-31T09:19:59.678187Z"
    },
    "papermill": {
     "duration": 4.274062,
     "end_time": "2025-05-31T09:19:59.680995",
     "exception": false,
     "start_time": "2025-05-31T09:19:55.406933",
     "status": "completed"
    },
    "tags": []
   },
   "outputs": [],
   "source": [
    "# This Python 3 environment comes with many helpful analytics libraries installed\n",
    "# It is defined by the kaggle/python Docker image: https://github.com/kaggle/docker-python\n",
    "# For example, here's several helpful packages to load\n",
    "\n",
    "import numpy as np # linear algebra\n",
    "import pandas as pd # data processing, CSV file I/O (e.g. pd.read_csv)\n",
    "import matplotlib.pyplot as plt\n",
    "import seaborn as sns"
   ]
  },
  {
   "cell_type": "code",
   "execution_count": 2,
   "id": "15f5cfb5",
   "metadata": {
    "execution": {
     "iopub.execute_input": "2025-05-31T09:19:59.693856Z",
     "iopub.status.busy": "2025-05-31T09:19:59.693398Z",
     "iopub.status.idle": "2025-05-31T09:19:59.783912Z",
     "shell.execute_reply": "2025-05-31T09:19:59.782820Z"
    },
    "papermill": {
     "duration": 0.09874,
     "end_time": "2025-05-31T09:19:59.785927",
     "exception": false,
     "start_time": "2025-05-31T09:19:59.687187",
     "status": "completed"
    },
    "tags": []
   },
   "outputs": [],
   "source": [
    "test = pd.read_csv('/kaggle/input/spaceship-titanic/test.csv')\n",
    "train = pd.read_csv('/kaggle/input/spaceship-titanic/train.csv')"
   ]
  },
  {
   "cell_type": "markdown",
   "id": "23c0f753",
   "metadata": {
    "papermill": {
     "duration": 0.004956,
     "end_time": "2025-05-31T09:19:59.796510",
     "exception": false,
     "start_time": "2025-05-31T09:19:59.791554",
     "status": "completed"
    },
    "tags": []
   },
   "source": [
    "# Analisi esplorativa dei dati di training"
   ]
  },
  {
   "cell_type": "markdown",
   "id": "ff97b4aa",
   "metadata": {
    "papermill": {
     "duration": 0.004835,
     "end_time": "2025-05-31T09:19:59.806726",
     "exception": false,
     "start_time": "2025-05-31T09:19:59.801891",
     "status": "completed"
    },
    "tags": []
   },
   "source": [
    "#### train.csv - Personal records for about two-thirds (~8700) of the passengers, to be used as training data.\n",
    "\n",
    "\n",
    "  - PassengerId - A unique Id for each passenger. Each Id takes the form gggg_pp where gggg indicates a group the passenger is travelling with and pp is their number within the group. People in a group are often family members, but not always.\n",
    "  - HomePlanet - The planet the passenger departed from, typically their planet of permanent residence.\n",
    "  - CryoSleep - Indicates whether the passenger elected to be put into suspended animation for the duration of the voyage. Passengers in cryosleep are confined to their cabins.\n",
    "  - Cabin - The cabin number where the passenger is staying. Takes the form deck/num/side, where side can be either P for Port or S for Starboard.\n",
    "  - Destination - The planet the passenger will be debarking to.\n",
    "  - Age - The age of the passenger.\n",
    "  - VIP - Whether the passenger has paid for special VIP service during the voyage.\n",
    "  - RoomService, FoodCourt, ShoppingMall, Spa, VRDeck - Amount the passenger has billed at each of the Spaceship Titanic's many luxury amenities.\n",
    "  - Name - The first and last names of the passenger.\n",
    "  - Transported - Whether the passenger was transported to another dimension. This is the target, the column you are trying to predict.\n",
    "\n",
    "\n",
    "#### test.csv - Personal records for the remaining one-third (~4300) of the passengers, to be used as test data.\n",
    "\n",
    "Your task is to predict the value of Transported for the passengers in this set.\n"
   ]
  },
  {
   "cell_type": "code",
   "execution_count": 3,
   "id": "0145d6fe",
   "metadata": {
    "execution": {
     "iopub.execute_input": "2025-05-31T09:19:59.818293Z",
     "iopub.status.busy": "2025-05-31T09:19:59.817988Z",
     "iopub.status.idle": "2025-05-31T09:19:59.851948Z",
     "shell.execute_reply": "2025-05-31T09:19:59.851062Z"
    },
    "papermill": {
     "duration": 0.041672,
     "end_time": "2025-05-31T09:19:59.853491",
     "exception": false,
     "start_time": "2025-05-31T09:19:59.811819",
     "status": "completed"
    },
    "tags": []
   },
   "outputs": [
    {
     "data": {
      "text/html": [
       "<div>\n",
       "<style scoped>\n",
       "    .dataframe tbody tr th:only-of-type {\n",
       "        vertical-align: middle;\n",
       "    }\n",
       "\n",
       "    .dataframe tbody tr th {\n",
       "        vertical-align: top;\n",
       "    }\n",
       "\n",
       "    .dataframe thead th {\n",
       "        text-align: right;\n",
       "    }\n",
       "</style>\n",
       "<table border=\"1\" class=\"dataframe\">\n",
       "  <thead>\n",
       "    <tr style=\"text-align: right;\">\n",
       "      <th></th>\n",
       "      <th>PassengerId</th>\n",
       "      <th>HomePlanet</th>\n",
       "      <th>CryoSleep</th>\n",
       "      <th>Cabin</th>\n",
       "      <th>Destination</th>\n",
       "      <th>Age</th>\n",
       "      <th>VIP</th>\n",
       "      <th>RoomService</th>\n",
       "      <th>FoodCourt</th>\n",
       "      <th>ShoppingMall</th>\n",
       "      <th>Spa</th>\n",
       "      <th>VRDeck</th>\n",
       "      <th>Name</th>\n",
       "      <th>Transported</th>\n",
       "    </tr>\n",
       "  </thead>\n",
       "  <tbody>\n",
       "    <tr>\n",
       "      <th>0</th>\n",
       "      <td>0001_01</td>\n",
       "      <td>Europa</td>\n",
       "      <td>False</td>\n",
       "      <td>B/0/P</td>\n",
       "      <td>TRAPPIST-1e</td>\n",
       "      <td>39.0</td>\n",
       "      <td>False</td>\n",
       "      <td>0.0</td>\n",
       "      <td>0.0</td>\n",
       "      <td>0.0</td>\n",
       "      <td>0.0</td>\n",
       "      <td>0.0</td>\n",
       "      <td>Maham Ofracculy</td>\n",
       "      <td>False</td>\n",
       "    </tr>\n",
       "    <tr>\n",
       "      <th>1</th>\n",
       "      <td>0002_01</td>\n",
       "      <td>Earth</td>\n",
       "      <td>False</td>\n",
       "      <td>F/0/S</td>\n",
       "      <td>TRAPPIST-1e</td>\n",
       "      <td>24.0</td>\n",
       "      <td>False</td>\n",
       "      <td>109.0</td>\n",
       "      <td>9.0</td>\n",
       "      <td>25.0</td>\n",
       "      <td>549.0</td>\n",
       "      <td>44.0</td>\n",
       "      <td>Juanna Vines</td>\n",
       "      <td>True</td>\n",
       "    </tr>\n",
       "    <tr>\n",
       "      <th>2</th>\n",
       "      <td>0003_01</td>\n",
       "      <td>Europa</td>\n",
       "      <td>False</td>\n",
       "      <td>A/0/S</td>\n",
       "      <td>TRAPPIST-1e</td>\n",
       "      <td>58.0</td>\n",
       "      <td>True</td>\n",
       "      <td>43.0</td>\n",
       "      <td>3576.0</td>\n",
       "      <td>0.0</td>\n",
       "      <td>6715.0</td>\n",
       "      <td>49.0</td>\n",
       "      <td>Altark Susent</td>\n",
       "      <td>False</td>\n",
       "    </tr>\n",
       "    <tr>\n",
       "      <th>3</th>\n",
       "      <td>0003_02</td>\n",
       "      <td>Europa</td>\n",
       "      <td>False</td>\n",
       "      <td>A/0/S</td>\n",
       "      <td>TRAPPIST-1e</td>\n",
       "      <td>33.0</td>\n",
       "      <td>False</td>\n",
       "      <td>0.0</td>\n",
       "      <td>1283.0</td>\n",
       "      <td>371.0</td>\n",
       "      <td>3329.0</td>\n",
       "      <td>193.0</td>\n",
       "      <td>Solam Susent</td>\n",
       "      <td>False</td>\n",
       "    </tr>\n",
       "    <tr>\n",
       "      <th>4</th>\n",
       "      <td>0004_01</td>\n",
       "      <td>Earth</td>\n",
       "      <td>False</td>\n",
       "      <td>F/1/S</td>\n",
       "      <td>TRAPPIST-1e</td>\n",
       "      <td>16.0</td>\n",
       "      <td>False</td>\n",
       "      <td>303.0</td>\n",
       "      <td>70.0</td>\n",
       "      <td>151.0</td>\n",
       "      <td>565.0</td>\n",
       "      <td>2.0</td>\n",
       "      <td>Willy Santantines</td>\n",
       "      <td>True</td>\n",
       "    </tr>\n",
       "  </tbody>\n",
       "</table>\n",
       "</div>"
      ],
      "text/plain": [
       "  PassengerId HomePlanet CryoSleep  Cabin  Destination   Age    VIP  \\\n",
       "0     0001_01     Europa     False  B/0/P  TRAPPIST-1e  39.0  False   \n",
       "1     0002_01      Earth     False  F/0/S  TRAPPIST-1e  24.0  False   \n",
       "2     0003_01     Europa     False  A/0/S  TRAPPIST-1e  58.0   True   \n",
       "3     0003_02     Europa     False  A/0/S  TRAPPIST-1e  33.0  False   \n",
       "4     0004_01      Earth     False  F/1/S  TRAPPIST-1e  16.0  False   \n",
       "\n",
       "   RoomService  FoodCourt  ShoppingMall     Spa  VRDeck               Name  \\\n",
       "0          0.0        0.0           0.0     0.0     0.0    Maham Ofracculy   \n",
       "1        109.0        9.0          25.0   549.0    44.0       Juanna Vines   \n",
       "2         43.0     3576.0           0.0  6715.0    49.0      Altark Susent   \n",
       "3          0.0     1283.0         371.0  3329.0   193.0       Solam Susent   \n",
       "4        303.0       70.0         151.0   565.0     2.0  Willy Santantines   \n",
       "\n",
       "   Transported  \n",
       "0        False  \n",
       "1         True  \n",
       "2        False  \n",
       "3        False  \n",
       "4         True  "
      ]
     },
     "execution_count": 3,
     "metadata": {},
     "output_type": "execute_result"
    }
   ],
   "source": [
    "train.head()"
   ]
  },
  {
   "cell_type": "code",
   "execution_count": 4,
   "id": "83be8ace",
   "metadata": {
    "execution": {
     "iopub.execute_input": "2025-05-31T09:19:59.866746Z",
     "iopub.status.busy": "2025-05-31T09:19:59.865982Z",
     "iopub.status.idle": "2025-05-31T09:19:59.921721Z",
     "shell.execute_reply": "2025-05-31T09:19:59.920774Z"
    },
    "papermill": {
     "duration": 0.063691,
     "end_time": "2025-05-31T09:19:59.923219",
     "exception": false,
     "start_time": "2025-05-31T09:19:59.859528",
     "status": "completed"
    },
    "tags": []
   },
   "outputs": [
    {
     "name": "stdout",
     "output_type": "stream",
     "text": [
      "<class 'pandas.core.frame.DataFrame'>\n",
      "RangeIndex: 8693 entries, 0 to 8692\n",
      "Data columns (total 14 columns):\n",
      " #   Column        Non-Null Count  Dtype  \n",
      "---  ------        --------------  -----  \n",
      " 0   PassengerId   8693 non-null   object \n",
      " 1   HomePlanet    8492 non-null   object \n",
      " 2   CryoSleep     8476 non-null   object \n",
      " 3   Cabin         8494 non-null   object \n",
      " 4   Destination   8511 non-null   object \n",
      " 5   Age           8514 non-null   float64\n",
      " 6   VIP           8490 non-null   object \n",
      " 7   RoomService   8512 non-null   float64\n",
      " 8   FoodCourt     8510 non-null   float64\n",
      " 9   ShoppingMall  8485 non-null   float64\n",
      " 10  Spa           8510 non-null   float64\n",
      " 11  VRDeck        8505 non-null   float64\n",
      " 12  Name          8493 non-null   object \n",
      " 13  Transported   8693 non-null   bool   \n",
      "dtypes: bool(1), float64(6), object(7)\n",
      "memory usage: 891.5+ KB\n"
     ]
    },
    {
     "data": {
      "text/html": [
       "<div>\n",
       "<style scoped>\n",
       "    .dataframe tbody tr th:only-of-type {\n",
       "        vertical-align: middle;\n",
       "    }\n",
       "\n",
       "    .dataframe tbody tr th {\n",
       "        vertical-align: top;\n",
       "    }\n",
       "\n",
       "    .dataframe thead th {\n",
       "        text-align: right;\n",
       "    }\n",
       "</style>\n",
       "<table border=\"1\" class=\"dataframe\">\n",
       "  <thead>\n",
       "    <tr style=\"text-align: right;\">\n",
       "      <th></th>\n",
       "      <th>Age</th>\n",
       "      <th>RoomService</th>\n",
       "      <th>FoodCourt</th>\n",
       "      <th>ShoppingMall</th>\n",
       "      <th>Spa</th>\n",
       "      <th>VRDeck</th>\n",
       "    </tr>\n",
       "  </thead>\n",
       "  <tbody>\n",
       "    <tr>\n",
       "      <th>count</th>\n",
       "      <td>8514.000000</td>\n",
       "      <td>8512.000000</td>\n",
       "      <td>8510.000000</td>\n",
       "      <td>8485.000000</td>\n",
       "      <td>8510.000000</td>\n",
       "      <td>8505.000000</td>\n",
       "    </tr>\n",
       "    <tr>\n",
       "      <th>mean</th>\n",
       "      <td>28.827930</td>\n",
       "      <td>224.687617</td>\n",
       "      <td>458.077203</td>\n",
       "      <td>173.729169</td>\n",
       "      <td>311.138778</td>\n",
       "      <td>304.854791</td>\n",
       "    </tr>\n",
       "    <tr>\n",
       "      <th>std</th>\n",
       "      <td>14.489021</td>\n",
       "      <td>666.717663</td>\n",
       "      <td>1611.489240</td>\n",
       "      <td>604.696458</td>\n",
       "      <td>1136.705535</td>\n",
       "      <td>1145.717189</td>\n",
       "    </tr>\n",
       "    <tr>\n",
       "      <th>min</th>\n",
       "      <td>0.000000</td>\n",
       "      <td>0.000000</td>\n",
       "      <td>0.000000</td>\n",
       "      <td>0.000000</td>\n",
       "      <td>0.000000</td>\n",
       "      <td>0.000000</td>\n",
       "    </tr>\n",
       "    <tr>\n",
       "      <th>25%</th>\n",
       "      <td>19.000000</td>\n",
       "      <td>0.000000</td>\n",
       "      <td>0.000000</td>\n",
       "      <td>0.000000</td>\n",
       "      <td>0.000000</td>\n",
       "      <td>0.000000</td>\n",
       "    </tr>\n",
       "    <tr>\n",
       "      <th>50%</th>\n",
       "      <td>27.000000</td>\n",
       "      <td>0.000000</td>\n",
       "      <td>0.000000</td>\n",
       "      <td>0.000000</td>\n",
       "      <td>0.000000</td>\n",
       "      <td>0.000000</td>\n",
       "    </tr>\n",
       "    <tr>\n",
       "      <th>75%</th>\n",
       "      <td>38.000000</td>\n",
       "      <td>47.000000</td>\n",
       "      <td>76.000000</td>\n",
       "      <td>27.000000</td>\n",
       "      <td>59.000000</td>\n",
       "      <td>46.000000</td>\n",
       "    </tr>\n",
       "    <tr>\n",
       "      <th>max</th>\n",
       "      <td>79.000000</td>\n",
       "      <td>14327.000000</td>\n",
       "      <td>29813.000000</td>\n",
       "      <td>23492.000000</td>\n",
       "      <td>22408.000000</td>\n",
       "      <td>24133.000000</td>\n",
       "    </tr>\n",
       "  </tbody>\n",
       "</table>\n",
       "</div>"
      ],
      "text/plain": [
       "               Age   RoomService     FoodCourt  ShoppingMall           Spa  \\\n",
       "count  8514.000000   8512.000000   8510.000000   8485.000000   8510.000000   \n",
       "mean     28.827930    224.687617    458.077203    173.729169    311.138778   \n",
       "std      14.489021    666.717663   1611.489240    604.696458   1136.705535   \n",
       "min       0.000000      0.000000      0.000000      0.000000      0.000000   \n",
       "25%      19.000000      0.000000      0.000000      0.000000      0.000000   \n",
       "50%      27.000000      0.000000      0.000000      0.000000      0.000000   \n",
       "75%      38.000000     47.000000     76.000000     27.000000     59.000000   \n",
       "max      79.000000  14327.000000  29813.000000  23492.000000  22408.000000   \n",
       "\n",
       "             VRDeck  \n",
       "count   8505.000000  \n",
       "mean     304.854791  \n",
       "std     1145.717189  \n",
       "min        0.000000  \n",
       "25%        0.000000  \n",
       "50%        0.000000  \n",
       "75%       46.000000  \n",
       "max    24133.000000  "
      ]
     },
     "execution_count": 4,
     "metadata": {},
     "output_type": "execute_result"
    }
   ],
   "source": [
    "train.info()\n",
    "train.describe()"
   ]
  },
  {
   "cell_type": "markdown",
   "id": "a06e277a",
   "metadata": {
    "papermill": {
     "duration": 0.005504,
     "end_time": "2025-05-31T09:19:59.934741",
     "exception": false,
     "start_time": "2025-05-31T09:19:59.929237",
     "status": "completed"
    },
    "tags": []
   },
   "source": [
    "#Rimuoviamo i valori doppi nella colonna Names, ipotizzando non ci siano omonimi\n",
    "print(train['Name'].duplicated().sum())\n",
    "train.drop_duplicates('Name', keep='last')"
   ]
  },
  {
   "cell_type": "code",
   "execution_count": 5,
   "id": "6700ca4a",
   "metadata": {
    "execution": {
     "iopub.execute_input": "2025-05-31T09:19:59.947274Z",
     "iopub.status.busy": "2025-05-31T09:19:59.946982Z",
     "iopub.status.idle": "2025-05-31T09:19:59.978194Z",
     "shell.execute_reply": "2025-05-31T09:19:59.976531Z"
    },
    "papermill": {
     "duration": 0.039488,
     "end_time": "2025-05-31T09:19:59.979889",
     "exception": false,
     "start_time": "2025-05-31T09:19:59.940401",
     "status": "completed"
    },
    "tags": []
   },
   "outputs": [
    {
     "name": "stdout",
     "output_type": "stream",
     "text": [
      "<class 'pandas.core.frame.DataFrame'>\n",
      "Index: 7559 entries, 0 to 8692\n",
      "Data columns (total 14 columns):\n",
      " #   Column        Non-Null Count  Dtype  \n",
      "---  ------        --------------  -----  \n",
      " 0   PassengerId   7559 non-null   object \n",
      " 1   HomePlanet    7559 non-null   object \n",
      " 2   CryoSleep     7559 non-null   object \n",
      " 3   Cabin         7559 non-null   object \n",
      " 4   Destination   7559 non-null   object \n",
      " 5   Age           7559 non-null   float64\n",
      " 6   VIP           7559 non-null   object \n",
      " 7   RoomService   7559 non-null   float64\n",
      " 8   FoodCourt     7559 non-null   float64\n",
      " 9   ShoppingMall  7559 non-null   float64\n",
      " 10  Spa           7559 non-null   float64\n",
      " 11  VRDeck        7559 non-null   float64\n",
      " 12  Name          7559 non-null   object \n",
      " 13  Transported   7559 non-null   bool   \n",
      "dtypes: bool(1), float64(6), object(7)\n",
      "memory usage: 834.1+ KB\n"
     ]
    }
   ],
   "source": [
    "#Sostituiamo i valori nulli con le medie di colonna\n",
    "train['Age'] = train['Age'].fillna(np.mean(train['Age']))\n",
    "train['RoomService'] = train['RoomService'].fillna(np.mean(train['RoomService']))\n",
    "train['FoodCourt'] = train['FoodCourt'].fillna(np.mean(train['FoodCourt']))\n",
    "train['ShoppingMall'] = train['ShoppingMall'].fillna(np.mean(train['ShoppingMall']))\n",
    "train['Spa'] = train['Spa'].fillna(np.mean(train['Spa']))\n",
    "train['VRDeck'] = train['VRDeck'].fillna(np.mean(train['VRDeck']))\n",
    "\n",
    "#Rimuoviamo le righe con valori nulli in variabili qualitative in quanto non sostituibili con altri valori senza distorsioni del dataframe \n",
    "\n",
    "train = train.dropna() \n",
    "\n",
    "train.info()"
   ]
  },
  {
   "cell_type": "code",
   "execution_count": 6,
   "id": "b249f9a1",
   "metadata": {
    "execution": {
     "iopub.execute_input": "2025-05-31T09:19:59.998323Z",
     "iopub.status.busy": "2025-05-31T09:19:59.997419Z",
     "iopub.status.idle": "2025-05-31T09:20:00.021203Z",
     "shell.execute_reply": "2025-05-31T09:20:00.020316Z"
    },
    "papermill": {
     "duration": 0.036856,
     "end_time": "2025-05-31T09:20:00.023572",
     "exception": false,
     "start_time": "2025-05-31T09:19:59.986716",
     "status": "completed"
    },
    "tags": []
   },
   "outputs": [
    {
     "name": "stdout",
     "output_type": "stream",
     "text": [
      "<class 'pandas.core.frame.DataFrame'>\n",
      "Index: 7559 entries, 0 to 8692\n",
      "Data columns (total 14 columns):\n",
      " #   Column        Non-Null Count  Dtype  \n",
      "---  ------        --------------  -----  \n",
      " 0   PassengerId   7559 non-null   object \n",
      " 1   HomePlanet    7559 non-null   object \n",
      " 2   CryoSleep     7559 non-null   int64  \n",
      " 3   Cabin         7559 non-null   object \n",
      " 4   Destination   7559 non-null   object \n",
      " 5   Age           7559 non-null   float64\n",
      " 6   VIP           7559 non-null   int64  \n",
      " 7   RoomService   7559 non-null   float64\n",
      " 8   FoodCourt     7559 non-null   float64\n",
      " 9   ShoppingMall  7559 non-null   float64\n",
      " 10  Spa           7559 non-null   float64\n",
      " 11  VRDeck        7559 non-null   float64\n",
      " 12  Name          7559 non-null   object \n",
      " 13  Transported   7559 non-null   int64  \n",
      "dtypes: float64(6), int64(3), object(5)\n",
      "memory usage: 885.8+ KB\n"
     ]
    }
   ],
   "source": [
    "train['Age'] = pd.to_numeric(train['Age'], errors ='coerce')\n",
    "train['RoomService'] = pd.to_numeric(train['RoomService'], errors ='coerce')\n",
    "train['FoodCourt'] = pd.to_numeric(train['FoodCourt'], errors ='coerce')\n",
    "train['ShoppingMall'] = pd.to_numeric(train['ShoppingMall'], errors ='coerce')\n",
    "train['Spa'] = pd.to_numeric(train['Spa'], errors ='coerce')\n",
    "train['VRDeck'] = pd.to_numeric(train['VRDeck'], errors ='coerce')\n",
    "train['CryoSleep'] = train['CryoSleep'].astype(bool).astype(int) \n",
    "train['VIP'] = train['VIP'].astype(bool).astype(int) \n",
    "train['Transported'] = train['Transported'].astype(bool).astype(int) \n",
    "train.info()"
   ]
  },
  {
   "cell_type": "code",
   "execution_count": 7,
   "id": "4d0fb9dc",
   "metadata": {
    "execution": {
     "iopub.execute_input": "2025-05-31T09:20:00.044359Z",
     "iopub.status.busy": "2025-05-31T09:20:00.042571Z",
     "iopub.status.idle": "2025-05-31T09:20:00.404775Z",
     "shell.execute_reply": "2025-05-31T09:20:00.403785Z"
    },
    "papermill": {
     "duration": 0.374712,
     "end_time": "2025-05-31T09:20:00.406538",
     "exception": false,
     "start_time": "2025-05-31T09:20:00.031826",
     "status": "completed"
    },
    "tags": []
   },
   "outputs": [
    {
     "data": {
      "image/png": "[encoded data removed]",
      "text/plain": [
       "<Figure size 640x480 with 1 Axes>"
      ]
     },
     "metadata": {},
     "output_type": "display_data"
    },
    {
     "data": {
      "image/png": "[encoded data removed]",
      "text/plain": [
       "<Figure size 640x480 with 1 Axes>"
      ]
     },
     "metadata": {},
     "output_type": "display_data"
    }
   ],
   "source": [
    "#Procediamo con la visualizzazione dei dati\n",
    "\n",
    "train['HomePlanet'].value_counts().plot.pie()\n",
    "plt.show()\n",
    "train['Destination'].value_counts().plot.pie()\n",
    "plt.show()\n"
   ]
  },
  {
   "cell_type": "markdown",
   "id": "ee34d414",
   "metadata": {
    "papermill": {
     "duration": 0.007142,
     "end_time": "2025-05-31T09:20:00.421267",
     "exception": false,
     "start_time": "2025-05-31T09:20:00.414125",
     "status": "completed"
    },
    "tags": []
   },
   "source": [
    "La maggior parte dei passeggeri proviene dalla Terra ed è diretta a TRAPPIST-1e"
   ]
  },
  {
   "cell_type": "code",
   "execution_count": 8,
   "id": "9bf4c6f0",
   "metadata": {
    "execution": {
     "iopub.execute_input": "2025-05-31T09:20:00.436278Z",
     "iopub.status.busy": "2025-05-31T09:20:00.435960Z",
     "iopub.status.idle": "2025-05-31T09:20:01.578107Z",
     "shell.execute_reply": "2025-05-31T09:20:01.577154Z"
    },
    "papermill": {
     "duration": 1.151496,
     "end_time": "2025-05-31T09:20:01.579884",
     "exception": false,
     "start_time": "2025-05-31T09:20:00.428388",
     "status": "completed"
    },
    "tags": []
   },
   "outputs": [
    {
     "data": {
      "image/png": "[encoded data removed]",
      "text/plain": [
       "<Figure size 640x480 with 1 Axes>"
      ]
     },
     "metadata": {},
     "output_type": "display_data"
    },
    {
     "data": {
      "image/png": "[encoded data removed]",
      "text/plain": [
       "<Figure size 640x480 with 1 Axes>"
      ]
     },
     "metadata": {},
     "output_type": "display_data"
    },
    {
     "data": {
      "image/png": "[encoded data removed]",
      "text/plain": [
       "<Figure size 640x480 with 1 Axes>"
      ]
     },
     "metadata": {},
     "output_type": "display_data"
    },
    {
     "data": {
      "image/png": "[encoded data removed]",
      "text/plain": [
       "<Figure size 640x480 with 1 Axes>"
      ]
     },
     "metadata": {},
     "output_type": "display_data"
    },
    {
     "data": {
      "image/png": "[encoded data removed]",
      "text/plain": [
       "<Figure size 640x480 with 1 Axes>"
      ]
     },
     "metadata": {},
     "output_type": "display_data"
    },
    {
     "data": {
      "image/png": "[encoded data removed]",
      "text/plain": [
       "<Figure size 640x480 with 1 Axes>"
      ]
     },
     "metadata": {},
     "output_type": "display_data"
    }
   ],
   "source": [
    "train['Age'].plot.hist()\n",
    "plt.suptitle(\"Age\")\n",
    "plt.show()\n",
    "train['RoomService'].plot.hist(alpha = .5,bins=50)\n",
    "plt.suptitle(\"Room Service\")\n",
    "plt.show()\n",
    "train['FoodCourt'].plot.hist(bins=50)\n",
    "plt.suptitle(\"Food Court\")\n",
    "plt.show()\n",
    "train['ShoppingMall'].plot.hist(bins=50)\n",
    "plt.suptitle(\"Shopping Mall\")\n",
    "plt.show()\n",
    "train['Spa'].plot.hist(bins=50)\n",
    "plt.suptitle(\"Spa\")\n",
    "plt.show()\n",
    "train['VRDeck'].plot.hist(bins=50)\n",
    "plt.suptitle(\"VRDeck\")\n",
    "plt.show()\n"
   ]
  },
  {
   "cell_type": "markdown",
   "id": "cbd15974",
   "metadata": {
    "papermill": {
     "duration": 0.008482,
     "end_time": "2025-05-31T09:20:01.597488",
     "exception": false,
     "start_time": "2025-05-31T09:20:01.589006",
     "status": "completed"
    },
    "tags": []
   },
   "source": [
    "Dal primo istogramma osserviamo che l'età mediana è 20, dai successivi invece notiamo che la maggior parte de passeggeri ha speso meno di 5000$ sulla nave"
   ]
  },
  {
   "cell_type": "code",
   "execution_count": 9,
   "id": "e43c50a2",
   "metadata": {
    "execution": {
     "iopub.execute_input": "2025-05-31T09:20:01.618181Z",
     "iopub.status.busy": "2025-05-31T09:20:01.617701Z",
     "iopub.status.idle": "2025-05-31T09:20:01.886299Z",
     "shell.execute_reply": "2025-05-31T09:20:01.885313Z"
    },
    "papermill": {
     "duration": 0.280631,
     "end_time": "2025-05-31T09:20:01.887900",
     "exception": false,
     "start_time": "2025-05-31T09:20:01.607269",
     "status": "completed"
    },
    "tags": []
   },
   "outputs": [
    {
     "data": {
      "image/png": "[encoded data removed]",
      "text/plain": [
       "<Figure size 640x480 with 1 Axes>"
      ]
     },
     "metadata": {},
     "output_type": "display_data"
    },
    {
     "data": {
      "image/png": "[encoded data removed]",
      "text/plain": [
       "<Figure size 640x480 with 1 Axes>"
      ]
     },
     "metadata": {},
     "output_type": "display_data"
    }
   ],
   "source": [
    "train['CryoSleep'].value_counts().plot.bar()\n",
    "plt.show()\n",
    "train['Transported'].value_counts().plot.bar()\n",
    "plt.show()"
   ]
  },
  {
   "cell_type": "markdown",
   "id": "60bd67a8",
   "metadata": {
    "papermill": {
     "duration": 0.010604,
     "end_time": "2025-05-31T09:20:01.908241",
     "exception": false,
     "start_time": "2025-05-31T09:20:01.897637",
     "status": "completed"
    },
    "tags": []
   },
   "source": [
    "La maggior parte dei passeggeri non era nel Cryo Sleep quando è avvenuto l'incidente.\n",
    "Inoltre la quantità di passeggeri trasportati è quasi pari alla metà"
   ]
  },
  {
   "cell_type": "markdown",
   "id": "bac9d0b0",
   "metadata": {
    "papermill": {
     "duration": 0.009063,
     "end_time": "2025-05-31T09:20:01.926726",
     "exception": false,
     "start_time": "2025-05-31T09:20:01.917663",
     "status": "completed"
    },
    "tags": []
   },
   "source": [
    "## Data Engeenering"
   ]
  },
  {
   "cell_type": "code",
   "execution_count": 10,
   "id": "557bd484",
   "metadata": {
    "execution": {
     "iopub.execute_input": "2025-05-31T09:20:01.946881Z",
     "iopub.status.busy": "2025-05-31T09:20:01.946516Z",
     "iopub.status.idle": "2025-05-31T09:20:01.965523Z",
     "shell.execute_reply": "2025-05-31T09:20:01.964376Z"
    },
    "papermill": {
     "duration": 0.030913,
     "end_time": "2025-05-31T09:20:01.967086",
     "exception": false,
     "start_time": "2025-05-31T09:20:01.936173",
     "status": "completed"
    },
    "tags": []
   },
   "outputs": [
    {
     "name": "stdout",
     "output_type": "stream",
     "text": [
      "<class 'pandas.core.frame.DataFrame'>\n",
      "Index: 7559 entries, 0 to 8692\n",
      "Data columns (total 9 columns):\n",
      " #   Column       Non-Null Count  Dtype  \n",
      "---  ------       --------------  -----  \n",
      " 0   PassengerId  7559 non-null   object \n",
      " 1   HomePlanet   7559 non-null   object \n",
      " 2   CryoSleep    7559 non-null   int64  \n",
      " 3   Cabin        7559 non-null   object \n",
      " 4   Destination  7559 non-null   object \n",
      " 5   Age          7559 non-null   float64\n",
      " 6   VIP          7559 non-null   int64  \n",
      " 7   Transported  7559 non-null   int64  \n",
      " 8   ExpAmount    7559 non-null   float64\n",
      "dtypes: float64(2), int64(3), object(4)\n",
      "memory usage: 590.5+ KB\n"
     ]
    }
   ],
   "source": [
    "train['ExpAmount'] = train['RoomService']+train['FoodCourt']+train['ShoppingMall']+train['Spa']+train['VRDeck']\n",
    "train = train.drop(['RoomService','FoodCourt','ShoppingMall','Spa','VRDeck'],axis=1)\n",
    "train = train.drop(['Name'],axis=1)\n",
    "\n",
    "train.head()\n",
    "train.info()"
   ]
  },
  {
   "cell_type": "code",
   "execution_count": 11,
   "id": "0a38b9c8",
   "metadata": {
    "execution": {
     "iopub.execute_input": "2025-05-31T09:20:01.987267Z",
     "iopub.status.busy": "2025-05-31T09:20:01.986933Z",
     "iopub.status.idle": "2025-05-31T09:20:02.213152Z",
     "shell.execute_reply": "2025-05-31T09:20:02.212177Z"
    },
    "papermill": {
     "duration": 0.238716,
     "end_time": "2025-05-31T09:20:02.215333",
     "exception": false,
     "start_time": "2025-05-31T09:20:01.976617",
     "status": "completed"
    },
    "tags": []
   },
   "outputs": [
    {
     "data": {
      "image/png": "[encoded data removed]",
      "text/plain": [
       "<Figure size 640x480 with 1 Axes>"
      ]
     },
     "metadata": {},
     "output_type": "display_data"
    }
   ],
   "source": [
    "train['ExpAmount'].plot.hist(bins=50)\n",
    "plt.suptitle(\"ExpAmount\")\n",
    "plt.show()\n"
   ]
  },
  {
   "cell_type": "code",
   "execution_count": 12,
   "id": "21c4a286",
   "metadata": {
    "execution": {
     "iopub.execute_input": "2025-05-31T09:20:02.238962Z",
     "iopub.status.busy": "2025-05-31T09:20:02.238530Z",
     "iopub.status.idle": "2025-05-31T09:20:02.265979Z",
     "shell.execute_reply": "2025-05-31T09:20:02.265032Z"
    },
    "papermill": {
     "duration": 0.040674,
     "end_time": "2025-05-31T09:20:02.267641",
     "exception": false,
     "start_time": "2025-05-31T09:20:02.226967",
     "status": "completed"
    },
    "tags": []
   },
   "outputs": [
    {
     "data": {
      "text/html": [
       "<div>\n",
       "<style scoped>\n",
       "    .dataframe tbody tr th:only-of-type {\n",
       "        vertical-align: middle;\n",
       "    }\n",
       "\n",
       "    .dataframe tbody tr th {\n",
       "        vertical-align: top;\n",
       "    }\n",
       "\n",
       "    .dataframe thead th {\n",
       "        text-align: right;\n",
       "    }\n",
       "</style>\n",
       "<table border=\"1\" class=\"dataframe\">\n",
       "  <thead>\n",
       "    <tr style=\"text-align: right;\">\n",
       "      <th></th>\n",
       "      <th>PassengerId</th>\n",
       "      <th>HomePlanet</th>\n",
       "      <th>CryoSleep</th>\n",
       "      <th>Destination</th>\n",
       "      <th>Age</th>\n",
       "      <th>VIP</th>\n",
       "      <th>Transported</th>\n",
       "      <th>ExpAmount</th>\n",
       "      <th>deck</th>\n",
       "      <th>num</th>\n",
       "      <th>side</th>\n",
       "    </tr>\n",
       "  </thead>\n",
       "  <tbody>\n",
       "    <tr>\n",
       "      <th>0</th>\n",
       "      <td>0001_01</td>\n",
       "      <td>Europa</td>\n",
       "      <td>0</td>\n",
       "      <td>TRAPPIST-1e</td>\n",
       "      <td>39.0</td>\n",
       "      <td>0</td>\n",
       "      <td>0</td>\n",
       "      <td>0.0</td>\n",
       "      <td>B</td>\n",
       "      <td>0</td>\n",
       "      <td>P</td>\n",
       "    </tr>\n",
       "    <tr>\n",
       "      <th>1</th>\n",
       "      <td>0002_01</td>\n",
       "      <td>Earth</td>\n",
       "      <td>0</td>\n",
       "      <td>TRAPPIST-1e</td>\n",
       "      <td>24.0</td>\n",
       "      <td>0</td>\n",
       "      <td>1</td>\n",
       "      <td>736.0</td>\n",
       "      <td>F</td>\n",
       "      <td>0</td>\n",
       "      <td>S</td>\n",
       "    </tr>\n",
       "    <tr>\n",
       "      <th>2</th>\n",
       "      <td>0003_01</td>\n",
       "      <td>Europa</td>\n",
       "      <td>0</td>\n",
       "      <td>TRAPPIST-1e</td>\n",
       "      <td>58.0</td>\n",
       "      <td>1</td>\n",
       "      <td>0</td>\n",
       "      <td>10383.0</td>\n",
       "      <td>A</td>\n",
       "      <td>0</td>\n",
       "      <td>S</td>\n",
       "    </tr>\n",
       "    <tr>\n",
       "      <th>3</th>\n",
       "      <td>0003_02</td>\n",
       "      <td>Europa</td>\n",
       "      <td>0</td>\n",
       "      <td>TRAPPIST-1e</td>\n",
       "      <td>33.0</td>\n",
       "      <td>0</td>\n",
       "      <td>0</td>\n",
       "      <td>5176.0</td>\n",
       "      <td>A</td>\n",
       "      <td>0</td>\n",
       "      <td>S</td>\n",
       "    </tr>\n",
       "    <tr>\n",
       "      <th>4</th>\n",
       "      <td>0004_01</td>\n",
       "      <td>Earth</td>\n",
       "      <td>0</td>\n",
       "      <td>TRAPPIST-1e</td>\n",
       "      <td>16.0</td>\n",
       "      <td>0</td>\n",
       "      <td>1</td>\n",
       "      <td>1091.0</td>\n",
       "      <td>F</td>\n",
       "      <td>1</td>\n",
       "      <td>S</td>\n",
       "    </tr>\n",
       "  </tbody>\n",
       "</table>\n",
       "</div>"
      ],
      "text/plain": [
       "  PassengerId HomePlanet  CryoSleep  Destination   Age  VIP  Transported  \\\n",
       "0     0001_01     Europa          0  TRAPPIST-1e  39.0    0            0   \n",
       "1     0002_01      Earth          0  TRAPPIST-1e  24.0    0            1   \n",
       "2     0003_01     Europa          0  TRAPPIST-1e  58.0    1            0   \n",
       "3     0003_02     Europa          0  TRAPPIST-1e  33.0    0            0   \n",
       "4     0004_01      Earth          0  TRAPPIST-1e  16.0    0            1   \n",
       "\n",
       "   ExpAmount deck num side  \n",
       "0        0.0    B   0    P  \n",
       "1      736.0    F   0    S  \n",
       "2    10383.0    A   0    S  \n",
       "3     5176.0    A   0    S  \n",
       "4     1091.0    F   1    S  "
      ]
     },
     "execution_count": 12,
     "metadata": {},
     "output_type": "execute_result"
    }
   ],
   "source": [
    "train[['deck', 'num', 'side']] = train['Cabin'].str.split('/', expand=True)\n",
    "train = train.drop(['Cabin'],axis=1)\n",
    "train.head()\n"
   ]
  },
  {
   "cell_type": "code",
   "execution_count": 13,
   "id": "2662c5cb",
   "metadata": {
    "execution": {
     "iopub.execute_input": "2025-05-31T09:20:02.290036Z",
     "iopub.status.busy": "2025-05-31T09:20:02.289672Z",
     "iopub.status.idle": "2025-05-31T09:20:02.315241Z",
     "shell.execute_reply": "2025-05-31T09:20:02.314187Z"
    },
    "papermill": {
     "duration": 0.038386,
     "end_time": "2025-05-31T09:20:02.316897",
     "exception": false,
     "start_time": "2025-05-31T09:20:02.278511",
     "status": "completed"
    },
    "tags": []
   },
   "outputs": [
    {
     "data": {
      "text/html": [
       "<div>\n",
       "<style scoped>\n",
       "    .dataframe tbody tr th:only-of-type {\n",
       "        vertical-align: middle;\n",
       "    }\n",
       "\n",
       "    .dataframe tbody tr th {\n",
       "        vertical-align: top;\n",
       "    }\n",
       "\n",
       "    .dataframe thead th {\n",
       "        text-align: right;\n",
       "    }\n",
       "</style>\n",
       "<table border=\"1\" class=\"dataframe\">\n",
       "  <thead>\n",
       "    <tr style=\"text-align: right;\">\n",
       "      <th></th>\n",
       "      <th>HomePlanet</th>\n",
       "      <th>CryoSleep</th>\n",
       "      <th>Destination</th>\n",
       "      <th>Age</th>\n",
       "      <th>VIP</th>\n",
       "      <th>Transported</th>\n",
       "      <th>ExpAmount</th>\n",
       "      <th>deck</th>\n",
       "      <th>num</th>\n",
       "      <th>side</th>\n",
       "      <th>group</th>\n",
       "    </tr>\n",
       "  </thead>\n",
       "  <tbody>\n",
       "    <tr>\n",
       "      <th>0</th>\n",
       "      <td>Europa</td>\n",
       "      <td>0</td>\n",
       "      <td>TRAPPIST-1e</td>\n",
       "      <td>39.0</td>\n",
       "      <td>0</td>\n",
       "      <td>0</td>\n",
       "      <td>0.0</td>\n",
       "      <td>B</td>\n",
       "      <td>0</td>\n",
       "      <td>P</td>\n",
       "      <td>01</td>\n",
       "    </tr>\n",
       "    <tr>\n",
       "      <th>1</th>\n",
       "      <td>Earth</td>\n",
       "      <td>0</td>\n",
       "      <td>TRAPPIST-1e</td>\n",
       "      <td>24.0</td>\n",
       "      <td>0</td>\n",
       "      <td>1</td>\n",
       "      <td>736.0</td>\n",
       "      <td>F</td>\n",
       "      <td>0</td>\n",
       "      <td>S</td>\n",
       "      <td>01</td>\n",
       "    </tr>\n",
       "    <tr>\n",
       "      <th>2</th>\n",
       "      <td>Europa</td>\n",
       "      <td>0</td>\n",
       "      <td>TRAPPIST-1e</td>\n",
       "      <td>58.0</td>\n",
       "      <td>1</td>\n",
       "      <td>0</td>\n",
       "      <td>10383.0</td>\n",
       "      <td>A</td>\n",
       "      <td>0</td>\n",
       "      <td>S</td>\n",
       "      <td>01</td>\n",
       "    </tr>\n",
       "    <tr>\n",
       "      <th>3</th>\n",
       "      <td>Europa</td>\n",
       "      <td>0</td>\n",
       "      <td>TRAPPIST-1e</td>\n",
       "      <td>33.0</td>\n",
       "      <td>0</td>\n",
       "      <td>0</td>\n",
       "      <td>5176.0</td>\n",
       "      <td>A</td>\n",
       "      <td>0</td>\n",
       "      <td>S</td>\n",
       "      <td>02</td>\n",
       "    </tr>\n",
       "    <tr>\n",
       "      <th>4</th>\n",
       "      <td>Earth</td>\n",
       "      <td>0</td>\n",
       "      <td>TRAPPIST-1e</td>\n",
       "      <td>16.0</td>\n",
       "      <td>0</td>\n",
       "      <td>1</td>\n",
       "      <td>1091.0</td>\n",
       "      <td>F</td>\n",
       "      <td>1</td>\n",
       "      <td>S</td>\n",
       "      <td>01</td>\n",
       "    </tr>\n",
       "  </tbody>\n",
       "</table>\n",
       "</div>"
      ],
      "text/plain": [
       "  HomePlanet  CryoSleep  Destination   Age  VIP  Transported  ExpAmount deck  \\\n",
       "0     Europa          0  TRAPPIST-1e  39.0    0            0        0.0    B   \n",
       "1      Earth          0  TRAPPIST-1e  24.0    0            1      736.0    F   \n",
       "2     Europa          0  TRAPPIST-1e  58.0    1            0    10383.0    A   \n",
       "3     Europa          0  TRAPPIST-1e  33.0    0            0     5176.0    A   \n",
       "4      Earth          0  TRAPPIST-1e  16.0    0            1     1091.0    F   \n",
       "\n",
       "  num side group  \n",
       "0   0    P    01  \n",
       "1   0    S    01  \n",
       "2   0    S    01  \n",
       "3   0    S    02  \n",
       "4   1    S    01  "
      ]
     },
     "execution_count": 13,
     "metadata": {},
     "output_type": "execute_result"
    }
   ],
   "source": [
    "train[['id', 'group']] = train['PassengerId'].str.split('_', expand=True)\n",
    "train = train.drop(['PassengerId','id'],axis=1)\n",
    "train.head()"
   ]
  },
  {
   "cell_type": "code",
   "execution_count": 14,
   "id": "79c24022",
   "metadata": {
    "execution": {
     "iopub.execute_input": "2025-05-31T09:20:02.338727Z",
     "iopub.status.busy": "2025-05-31T09:20:02.338382Z",
     "iopub.status.idle": "2025-05-31T09:20:02.361012Z",
     "shell.execute_reply": "2025-05-31T09:20:02.359585Z"
    },
    "papermill": {
     "duration": 0.03555,
     "end_time": "2025-05-31T09:20:02.362777",
     "exception": false,
     "start_time": "2025-05-31T09:20:02.327227",
     "status": "completed"
    },
    "tags": []
   },
   "outputs": [
    {
     "data": {
      "text/html": [
       "<div>\n",
       "<style scoped>\n",
       "    .dataframe tbody tr th:only-of-type {\n",
       "        vertical-align: middle;\n",
       "    }\n",
       "\n",
       "    .dataframe tbody tr th {\n",
       "        vertical-align: top;\n",
       "    }\n",
       "\n",
       "    .dataframe thead th {\n",
       "        text-align: right;\n",
       "    }\n",
       "</style>\n",
       "<table border=\"1\" class=\"dataframe\">\n",
       "  <thead>\n",
       "    <tr style=\"text-align: right;\">\n",
       "      <th></th>\n",
       "      <th>HomePlanet</th>\n",
       "      <th>CryoSleep</th>\n",
       "      <th>Destination</th>\n",
       "      <th>Age</th>\n",
       "      <th>VIP</th>\n",
       "      <th>Transported</th>\n",
       "      <th>ExpAmount</th>\n",
       "      <th>group</th>\n",
       "      <th>side_P</th>\n",
       "      <th>side_S</th>\n",
       "    </tr>\n",
       "  </thead>\n",
       "  <tbody>\n",
       "    <tr>\n",
       "      <th>0</th>\n",
       "      <td>Europa</td>\n",
       "      <td>0</td>\n",
       "      <td>TRAPPIST-1e</td>\n",
       "      <td>39.0</td>\n",
       "      <td>0</td>\n",
       "      <td>0</td>\n",
       "      <td>0.0</td>\n",
       "      <td>01</td>\n",
       "      <td>True</td>\n",
       "      <td>False</td>\n",
       "    </tr>\n",
       "    <tr>\n",
       "      <th>1</th>\n",
       "      <td>Earth</td>\n",
       "      <td>0</td>\n",
       "      <td>TRAPPIST-1e</td>\n",
       "      <td>24.0</td>\n",
       "      <td>0</td>\n",
       "      <td>1</td>\n",
       "      <td>736.0</td>\n",
       "      <td>01</td>\n",
       "      <td>False</td>\n",
       "      <td>True</td>\n",
       "    </tr>\n",
       "    <tr>\n",
       "      <th>2</th>\n",
       "      <td>Europa</td>\n",
       "      <td>0</td>\n",
       "      <td>TRAPPIST-1e</td>\n",
       "      <td>58.0</td>\n",
       "      <td>1</td>\n",
       "      <td>0</td>\n",
       "      <td>10383.0</td>\n",
       "      <td>01</td>\n",
       "      <td>False</td>\n",
       "      <td>True</td>\n",
       "    </tr>\n",
       "    <tr>\n",
       "      <th>3</th>\n",
       "      <td>Europa</td>\n",
       "      <td>0</td>\n",
       "      <td>TRAPPIST-1e</td>\n",
       "      <td>33.0</td>\n",
       "      <td>0</td>\n",
       "      <td>0</td>\n",
       "      <td>5176.0</td>\n",
       "      <td>02</td>\n",
       "      <td>False</td>\n",
       "      <td>True</td>\n",
       "    </tr>\n",
       "    <tr>\n",
       "      <th>4</th>\n",
       "      <td>Earth</td>\n",
       "      <td>0</td>\n",
       "      <td>TRAPPIST-1e</td>\n",
       "      <td>16.0</td>\n",
       "      <td>0</td>\n",
       "      <td>1</td>\n",
       "      <td>1091.0</td>\n",
       "      <td>01</td>\n",
       "      <td>False</td>\n",
       "      <td>True</td>\n",
       "    </tr>\n",
       "  </tbody>\n",
       "</table>\n",
       "</div>"
      ],
      "text/plain": [
       "  HomePlanet  CryoSleep  Destination   Age  VIP  Transported  ExpAmount group  \\\n",
       "0     Europa          0  TRAPPIST-1e  39.0    0            0        0.0    01   \n",
       "1      Earth          0  TRAPPIST-1e  24.0    0            1      736.0    01   \n",
       "2     Europa          0  TRAPPIST-1e  58.0    1            0    10383.0    01   \n",
       "3     Europa          0  TRAPPIST-1e  33.0    0            0     5176.0    02   \n",
       "4      Earth          0  TRAPPIST-1e  16.0    0            1     1091.0    01   \n",
       "\n",
       "   side_P  side_S  \n",
       "0    True   False  \n",
       "1   False    True  \n",
       "2   False    True  \n",
       "3   False    True  \n",
       "4   False    True  "
      ]
     },
     "execution_count": 14,
     "metadata": {},
     "output_type": "execute_result"
    }
   ],
   "source": [
    "train = pd.get_dummies(train, columns=['side'], drop_first=False)\n",
    "train = train.drop(['num','deck'],axis=1)\n",
    "train.head()"
   ]
  },
  {
   "cell_type": "code",
   "execution_count": 15,
   "id": "7f5dd90e",
   "metadata": {
    "execution": {
     "iopub.execute_input": "2025-05-31T09:20:02.385509Z",
     "iopub.status.busy": "2025-05-31T09:20:02.385174Z",
     "iopub.status.idle": "2025-05-31T09:20:02.392573Z",
     "shell.execute_reply": "2025-05-31T09:20:02.391786Z"
    },
    "papermill": {
     "duration": 0.020767,
     "end_time": "2025-05-31T09:20:02.394043",
     "exception": false,
     "start_time": "2025-05-31T09:20:02.373276",
     "status": "completed"
    },
    "tags": []
   },
   "outputs": [],
   "source": [
    "train['ExpAmount'] = (train['ExpAmount'] - train['ExpAmount'].mean()) / train['ExpAmount'].std()\n",
    "train = train.drop(['HomePlanet','Destination','group'],axis=1)"
   ]
  },
  {
   "cell_type": "markdown",
   "id": "32d8bbbf",
   "metadata": {
    "papermill": {
     "duration": 0.010956,
     "end_time": "2025-05-31T09:20:02.415972",
     "exception": false,
     "start_time": "2025-05-31T09:20:02.405016",
     "status": "completed"
    },
    "tags": []
   },
   "source": [
    "### Machine learning"
   ]
  },
  {
   "cell_type": "code",
   "execution_count": 16,
   "id": "5c63bafa",
   "metadata": {
    "execution": {
     "iopub.execute_input": "2025-05-31T09:20:02.439583Z",
     "iopub.status.busy": "2025-05-31T09:20:02.439270Z",
     "iopub.status.idle": "2025-05-31T09:20:02.832562Z",
     "shell.execute_reply": "2025-05-31T09:20:02.831553Z"
    },
    "papermill": {
     "duration": 0.406981,
     "end_time": "2025-05-31T09:20:02.834079",
     "exception": false,
     "start_time": "2025-05-31T09:20:02.427098",
     "status": "completed"
    },
    "tags": []
   },
   "outputs": [
    {
     "name": "stdout",
     "output_type": "stream",
     "text": [
      "<class 'pandas.core.frame.DataFrame'>\n",
      "Index: 7559 entries, 0 to 8692\n",
      "Data columns (total 7 columns):\n",
      " #   Column       Non-Null Count  Dtype  \n",
      "---  ------       --------------  -----  \n",
      " 0   CryoSleep    7559 non-null   int64  \n",
      " 1   Age          7559 non-null   float64\n",
      " 2   VIP          7559 non-null   int64  \n",
      " 3   Transported  7559 non-null   int64  \n",
      " 4   ExpAmount    7559 non-null   float64\n",
      " 5   side_P       7559 non-null   bool   \n",
      " 6   side_S       7559 non-null   bool   \n",
      "dtypes: bool(2), float64(2), int64(3)\n",
      "memory usage: 369.1 KB\n"
     ]
    },
    {
     "data": {
      "text/plain": [
       "<Axes: >"
      ]
     },
     "execution_count": 16,
     "metadata": {},
     "output_type": "execute_result"
    },
    {
     "data": {
      "image/png": "[encoded data removed]",
      "text/plain": [
       "<Figure size 640x480 with 2 Axes>"
      ]
     },
     "metadata": {},
     "output_type": "display_data"
    }
   ],
   "source": [
    "train.info()\n",
    "sns.heatmap(train.corr(method='pearson',numeric_only=True), annot=True)"
   ]
  },
  {
   "cell_type": "markdown",
   "id": "df0b103f",
   "metadata": {
    "papermill": {
     "duration": 0.011642,
     "end_time": "2025-05-31T09:20:02.857857",
     "exception": false,
     "start_time": "2025-05-31T09:20:02.846215",
     "status": "completed"
    },
    "tags": []
   },
   "source": [
    "Proviamo a utilizzare l'algoritmo di Random Forest per determinare la colonna \"Transported\""
   ]
  },
  {
   "cell_type": "code",
   "execution_count": 17,
   "id": "3ed930fc",
   "metadata": {
    "execution": {
     "iopub.execute_input": "2025-05-31T09:20:02.882937Z",
     "iopub.status.busy": "2025-05-31T09:20:02.882556Z",
     "iopub.status.idle": "2025-05-31T09:20:03.792905Z",
     "shell.execute_reply": "2025-05-31T09:20:03.791957Z"
    },
    "papermill": {
     "duration": 0.925019,
     "end_time": "2025-05-31T09:20:03.794681",
     "exception": false,
     "start_time": "2025-05-31T09:20:02.869662",
     "status": "completed"
    },
    "tags": []
   },
   "outputs": [],
   "source": [
    "from sklearn.ensemble import RandomForestClassifier\n",
    "from sklearn.model_selection import train_test_split\n",
    "from sklearn.metrics import classification_report, accuracy_score"
   ]
  },
  {
   "cell_type": "code",
   "execution_count": 18,
   "id": "c92ecf7f",
   "metadata": {
    "execution": {
     "iopub.execute_input": "2025-05-31T09:20:03.820973Z",
     "iopub.status.busy": "2025-05-31T09:20:03.820611Z",
     "iopub.status.idle": "2025-05-31T09:20:03.826543Z",
     "shell.execute_reply": "2025-05-31T09:20:03.825688Z"
    },
    "papermill": {
     "duration": 0.021177,
     "end_time": "2025-05-31T09:20:03.828059",
     "exception": false,
     "start_time": "2025-05-31T09:20:03.806882",
     "status": "completed"
    },
    "tags": []
   },
   "outputs": [],
   "source": [
    "X = train.drop('Transported',axis=1)\n",
    "y = train['Transported']"
   ]
  },
  {
   "cell_type": "code",
   "execution_count": 19,
   "id": "f2f8f8c2",
   "metadata": {
    "execution": {
     "iopub.execute_input": "2025-05-31T09:20:03.854749Z",
     "iopub.status.busy": "2025-05-31T09:20:03.854417Z",
     "iopub.status.idle": "2025-05-31T09:20:03.862469Z",
     "shell.execute_reply": "2025-05-31T09:20:03.861528Z"
    },
    "papermill": {
     "duration": 0.023059,
     "end_time": "2025-05-31T09:20:03.864138",
     "exception": false,
     "start_time": "2025-05-31T09:20:03.841079",
     "status": "completed"
    },
    "tags": []
   },
   "outputs": [],
   "source": [
    "xtrain, xtest, ytrain, ytest = train_test_split(X, y, test_size=0.2, random_state=42)"
   ]
  },
  {
   "cell_type": "code",
   "execution_count": 20,
   "id": "82bfff9f",
   "metadata": {
    "execution": {
     "iopub.execute_input": "2025-05-31T09:20:03.956585Z",
     "iopub.status.busy": "2025-05-31T09:20:03.956289Z",
     "iopub.status.idle": "2025-05-31T09:20:03.991539Z",
     "shell.execute_reply": "2025-05-31T09:20:03.990723Z"
    },
    "papermill": {
     "duration": 0.116001,
     "end_time": "2025-05-31T09:20:03.993288",
     "exception": false,
     "start_time": "2025-05-31T09:20:03.877287",
     "status": "completed"
    },
    "tags": []
   },
   "outputs": [],
   "source": [
    "#Prepariamo il dataset di test\n",
    "test['Age'] = test['Age'].fillna(np.mean(test['Age']))\n",
    "test['RoomService'] = test['RoomService'].fillna(np.mean(test['RoomService']))\n",
    "test['FoodCourt'] = test['FoodCourt'].fillna(np.mean(test['FoodCourt']))\n",
    "test['ShoppingMall'] = test['ShoppingMall'].fillna(np.mean(test['ShoppingMall']))\n",
    "test['Spa'] = test['Spa'].fillna(np.mean(test['Spa']))\n",
    "test['VRDeck'] = test['VRDeck'].fillna(np.mean(test['VRDeck']))\n",
    "test = test.dropna() \n",
    "test['Age'] = pd.to_numeric(test['Age'], errors ='coerce')\n",
    "test['RoomService'] = pd.to_numeric(test['RoomService'], errors ='coerce')\n",
    "test['FoodCourt'] = pd.to_numeric(test['FoodCourt'], errors ='coerce')\n",
    "test['ShoppingMall'] = pd.to_numeric(test['ShoppingMall'], errors ='coerce')\n",
    "test['Spa'] = pd.to_numeric(test['Spa'], errors ='coerce')\n",
    "test['VRDeck'] = pd.to_numeric(test['VRDeck'], errors ='coerce')\n",
    "test['CryoSleep'] = test['CryoSleep'].astype(bool).astype(int) \n",
    "test['VIP'] = test['VIP'].astype(bool).astype(int) \n",
    "test['ExpAmount'] = test['RoomService']+test['FoodCourt']+test['ShoppingMall']+test['Spa']+test['VRDeck']\n",
    "test = test.drop(['RoomService','FoodCourt','ShoppingMall','Spa','VRDeck'],axis=1)\n",
    "test = test.drop(['Name'],axis=1)\n",
    "test[['deck', 'num', 'side']] = test['Cabin'].str.split('/', expand=True)\n",
    "test = test.drop(['Cabin'],axis=1)\n",
    "test = pd.get_dummies(test, columns=['side'], drop_first=False)\n",
    "test = test.drop(['num','deck'],axis=1)\n",
    "test['ExpAmount'] = (test['ExpAmount'] - test['ExpAmount'].mean()) / test['ExpAmount'].std()\n",
    "test = test.drop(['HomePlanet','Destination','PassengerId'],axis=1)"
   ]
  },
  {
   "cell_type": "code",
   "execution_count": 21,
   "id": "9b09ccfc",
   "metadata": {
    "execution": {
     "iopub.execute_input": "2025-05-31T09:20:04.021000Z",
     "iopub.status.busy": "2025-05-31T09:20:04.020658Z",
     "iopub.status.idle": "2025-05-31T09:20:04.031684Z",
     "shell.execute_reply": "2025-05-31T09:20:04.030903Z"
    },
    "papermill": {
     "duration": 0.026473,
     "end_time": "2025-05-31T09:20:04.033033",
     "exception": false,
     "start_time": "2025-05-31T09:20:04.006560",
     "status": "completed"
    },
    "tags": []
   },
   "outputs": [
    {
     "data": {
      "text/html": [
       "<div>\n",
       "<style scoped>\n",
       "    .dataframe tbody tr th:only-of-type {\n",
       "        vertical-align: middle;\n",
       "    }\n",
       "\n",
       "    .dataframe tbody tr th {\n",
       "        vertical-align: top;\n",
       "    }\n",
       "\n",
       "    .dataframe thead th {\n",
       "        text-align: right;\n",
       "    }\n",
       "</style>\n",
       "<table border=\"1\" class=\"dataframe\">\n",
       "  <thead>\n",
       "    <tr style=\"text-align: right;\">\n",
       "      <th></th>\n",
       "      <th>CryoSleep</th>\n",
       "      <th>Age</th>\n",
       "      <th>VIP</th>\n",
       "      <th>ExpAmount</th>\n",
       "      <th>side_P</th>\n",
       "      <th>side_S</th>\n",
       "    </tr>\n",
       "  </thead>\n",
       "  <tbody>\n",
       "    <tr>\n",
       "      <th>0</th>\n",
       "      <td>1</td>\n",
       "      <td>27.0</td>\n",
       "      <td>0</td>\n",
       "      <td>-0.521992</td>\n",
       "      <td>False</td>\n",
       "      <td>True</td>\n",
       "    </tr>\n",
       "    <tr>\n",
       "      <th>1</th>\n",
       "      <td>0</td>\n",
       "      <td>19.0</td>\n",
       "      <td>0</td>\n",
       "      <td>0.504718</td>\n",
       "      <td>False</td>\n",
       "      <td>True</td>\n",
       "    </tr>\n",
       "    <tr>\n",
       "      <th>2</th>\n",
       "      <td>1</td>\n",
       "      <td>31.0</td>\n",
       "      <td>0</td>\n",
       "      <td>-0.521992</td>\n",
       "      <td>False</td>\n",
       "      <td>True</td>\n",
       "    </tr>\n",
       "    <tr>\n",
       "      <th>3</th>\n",
       "      <td>0</td>\n",
       "      <td>38.0</td>\n",
       "      <td>0</td>\n",
       "      <td>2.167321</td>\n",
       "      <td>False</td>\n",
       "      <td>True</td>\n",
       "    </tr>\n",
       "    <tr>\n",
       "      <th>4</th>\n",
       "      <td>0</td>\n",
       "      <td>20.0</td>\n",
       "      <td>0</td>\n",
       "      <td>-0.288155</td>\n",
       "      <td>False</td>\n",
       "      <td>True</td>\n",
       "    </tr>\n",
       "  </tbody>\n",
       "</table>\n",
       "</div>"
      ],
      "text/plain": [
       "   CryoSleep   Age  VIP  ExpAmount  side_P  side_S\n",
       "0          1  27.0    0  -0.521992   False    True\n",
       "1          0  19.0    0   0.504718   False    True\n",
       "2          1  31.0    0  -0.521992   False    True\n",
       "3          0  38.0    0   2.167321   False    True\n",
       "4          0  20.0    0  -0.288155   False    True"
      ]
     },
     "execution_count": 21,
     "metadata": {},
     "output_type": "execute_result"
    }
   ],
   "source": [
    "test.head()"
   ]
  },
  {
   "cell_type": "code",
   "execution_count": 22,
   "id": "2d9fab55",
   "metadata": {
    "execution": {
     "iopub.execute_input": "2025-05-31T09:20:04.059501Z",
     "iopub.status.busy": "2025-05-31T09:20:04.059198Z",
     "iopub.status.idle": "2025-05-31T09:20:04.765110Z",
     "shell.execute_reply": "2025-05-31T09:20:04.763997Z"
    },
    "papermill": {
     "duration": 0.721137,
     "end_time": "2025-05-31T09:20:04.766664",
     "exception": false,
     "start_time": "2025-05-31T09:20:04.045527",
     "status": "completed"
    },
    "tags": []
   },
   "outputs": [
    {
     "data": {
      "text/html": [
       "<style>#sk-container-id-1 {color: black;background-color: white;}#sk-container-id-1 pre{padding: 0;}#sk-container-id-1 div.sk-toggleable {background-color: white;}#sk-container-id-1 label.sk-toggleable__label {cursor: pointer;display: block;width: 100%;margin-bottom: 0;padding: 0.3em;box-sizing: border-box;text-align: center;}#sk-container-id-1 label.sk-toggleable__label-arrow:before {content: \"▸\";float: left;margin-right: 0.25em;color: #696969;}#sk-container-id-1 label.sk-toggleable__label-arrow:hover:before {color: black;}#sk-container-id-1 div.sk-estimator:hover label.sk-toggleable__label-arrow:before {color: black;}#sk-container-id-1 div.sk-toggleable__content {max-height: 0;max-width: 0;overflow: hidden;text-align: left;background-color: #f0f8ff;}#sk-container-id-1 div.sk-toggleable__content pre {margin: 0.2em;color: black;border-radius: 0.25em;background-color: #f0f8ff;}#sk-container-id-1 input.sk-toggleable__control:checked~div.sk-toggleable__content {max-height: 200px;max-width: 100%;overflow: auto;}#sk-container-id-1 input.sk-toggleable__control:checked~label.sk-toggleable__label-arrow:before {content: \"▾\";}#sk-container-id-1 div.sk-estimator input.sk-toggleable__control:checked~label.sk-toggleable__label {background-color: #d4ebff;}#sk-container-id-1 div.sk-label input.sk-toggleable__control:checked~label.sk-toggleable__label {background-color: #d4ebff;}#sk-container-id-1 input.sk-hidden--visually {border: 0;clip: rect(1px 1px 1px 1px);clip: rect(1px, 1px, 1px, 1px);height: 1px;margin: -1px;overflow: hidden;padding: 0;position: absolute;width: 1px;}#sk-container-id-1 div.sk-estimator {font-family: monospace;background-color: #f0f8ff;border: 1px dotted black;border-radius: 0.25em;box-sizing: border-box;margin-bottom: 0.5em;}#sk-container-id-1 div.sk-estimator:hover {background-color: #d4ebff;}#sk-container-id-1 div.sk-parallel-item::after {content: \"\";width: 100%;border-bottom: 1px solid gray;flex-grow: 1;}#sk-container-id-1 div.sk-label:hover label.sk-toggleable__label {background-color: #d4ebff;}#sk-container-id-1 div.sk-serial::before {content: \"\";position: absolute;border-left: 1px solid gray;box-sizing: border-box;top: 0;bottom: 0;left: 50%;z-index: 0;}#sk-container-id-1 div.sk-serial {display: flex;flex-direction: column;align-items: center;background-color: white;padding-right: 0.2em;padding-left: 0.2em;position: relative;}#sk-container-id-1 div.sk-item {position: relative;z-index: 1;}#sk-container-id-1 div.sk-parallel {display: flex;align-items: stretch;justify-content: center;background-color: white;position: relative;}#sk-container-id-1 div.sk-item::before, #sk-container-id-1 div.sk-parallel-item::before {content: \"\";position: absolute;border-left: 1px solid gray;box-sizing: border-box;top: 0;bottom: 0;left: 50%;z-index: -1;}#sk-container-id-1 div.sk-parallel-item {display: flex;flex-direction: column;z-index: 1;position: relative;background-color: white;}#sk-container-id-1 div.sk-parallel-item:first-child::after {align-self: flex-end;width: 50%;}#sk-container-id-1 div.sk-parallel-item:last-child::after {align-self: flex-start;width: 50%;}#sk-container-id-1 div.sk-parallel-item:only-child::after {width: 0;}#sk-container-id-1 div.sk-dashed-wrapped {border: 1px dashed gray;margin: 0 0.4em 0.5em 0.4em;box-sizing: border-box;padding-bottom: 0.4em;background-color: white;}#sk-container-id-1 div.sk-label label {font-family: monospace;font-weight: bold;display: inline-block;line-height: 1.2em;}#sk-container-id-1 div.sk-label-container {text-align: center;}#sk-container-id-1 div.sk-container {/* jupyter's `normalize.less` sets `[hidden] { display: none; }` but bootstrap.min.css set `[hidden] { display: none !important; }` so we also need the `!important` here to be able to override the default hidden behavior on the sphinx rendered scikit-learn.org. See: https://github.com/scikit-learn/scikit-learn/issues/21755 */display: inline-block !important;position: relative;}#sk-container-id-1 div.sk-text-repr-fallback {display: none;}</style><div id=\"sk-container-id-1\" class=\"sk-top-container\"><div class=\"sk-text-repr-fallback\"><pre>RandomForestClassifier(random_state=42)</pre><b>In a Jupyter environment, please rerun this cell to show the HTML representation or trust the notebook. <br />On GitHub, the HTML representation is unable to render, please try loading this page with nbviewer.org.</b></div><div class=\"sk-container\" hidden><div class=\"sk-item\"><div class=\"sk-estimator sk-toggleable\"><input class=\"sk-toggleable__control sk-hidden--visually\" id=\"sk-estimator-id-1\" type=\"checkbox\" checked><label for=\"sk-estimator-id-1\" class=\"sk-toggleable__label sk-toggleable__label-arrow\">RandomForestClassifier</label><div class=\"sk-toggleable__content\"><pre>RandomForestClassifier(random_state=42)</pre></div></div></div></div></div>"
      ],
      "text/plain": [
       "RandomForestClassifier(random_state=42)"
      ]
     },
     "execution_count": 22,
     "metadata": {},
     "output_type": "execute_result"
    }
   ],
   "source": [
    "model = RandomForestClassifier(n_estimators=100, random_state=42)\n",
    "model.fit(xtrain,ytrain)"
   ]
  },
  {
   "cell_type": "code",
   "execution_count": 23,
   "id": "024d889a",
   "metadata": {
    "execution": {
     "iopub.execute_input": "2025-05-31T09:20:04.795284Z",
     "iopub.status.busy": "2025-05-31T09:20:04.794956Z",
     "iopub.status.idle": "2025-05-31T09:20:04.847372Z",
     "shell.execute_reply": "2025-05-31T09:20:04.846362Z"
    },
    "papermill": {
     "duration": 0.068084,
     "end_time": "2025-05-31T09:20:04.849067",
     "exception": false,
     "start_time": "2025-05-31T09:20:04.780983",
     "status": "completed"
    },
    "tags": []
   },
   "outputs": [
    {
     "name": "stdout",
     "output_type": "stream",
     "text": [
      "Accuracy: 0.6990740740740741\n",
      "\n",
      "Report:\n",
      "               precision    recall  f1-score   support\n",
      "\n",
      "           0       0.71      0.68      0.70       762\n",
      "           1       0.69      0.72      0.70       750\n",
      "\n",
      "    accuracy                           0.70      1512\n",
      "   macro avg       0.70      0.70      0.70      1512\n",
      "weighted avg       0.70      0.70      0.70      1512\n",
      "\n"
     ]
    }
   ],
   "source": [
    "ypred = model.predict(xtest)\n",
    "print(\"Accuracy:\", accuracy_score(ytest, ypred))\n",
    "print(\"\\nReport:\\n\", classification_report(ytest, ypred))"
   ]
  },
  {
   "cell_type": "code",
   "execution_count": 24,
   "id": "a18d803a",
   "metadata": {
    "execution": {
     "iopub.execute_input": "2025-05-31T09:20:04.876069Z",
     "iopub.status.busy": "2025-05-31T09:20:04.875730Z",
     "iopub.status.idle": "2025-05-31T09:20:04.889382Z",
     "shell.execute_reply": "2025-05-31T09:20:04.888261Z"
    },
    "papermill": {
     "duration": 0.029215,
     "end_time": "2025-05-31T09:20:04.891094",
     "exception": false,
     "start_time": "2025-05-31T09:20:04.861879",
     "status": "completed"
    },
    "tags": []
   },
   "outputs": [
    {
     "name": "stdout",
     "output_type": "stream",
     "text": [
      "CryoSleep: 0.1571\n",
      "Age: 0.2317\n",
      "VIP: 0.0028\n",
      "ExpAmount: 0.5950\n",
      "side_P: 0.0070\n",
      "side_S: 0.0065\n"
     ]
    }
   ],
   "source": [
    "importances = model.feature_importances_\n",
    "for feature, importance in zip(X.columns, importances):\n",
    "    print(f\"{feature}: {importance:.4f}\")"
   ]
  },
  {
   "cell_type": "code",
   "execution_count": 25,
   "id": "da2e6003",
   "metadata": {
    "execution": {
     "iopub.execute_input": "2025-05-31T09:20:04.918827Z",
     "iopub.status.busy": "2025-05-31T09:20:04.918534Z",
     "iopub.status.idle": "2025-05-31T09:21:41.888218Z",
     "shell.execute_reply": "2025-05-31T09:21:41.886944Z"
    },
    "papermill": {
     "duration": 96.999069,
     "end_time": "2025-05-31T09:21:41.903604",
     "exception": false,
     "start_time": "2025-05-31T09:20:04.904535",
     "status": "completed"
    },
    "tags": []
   },
   "outputs": [
    {
     "name": "stdout",
     "output_type": "stream",
     "text": [
      "Migliori parametri: {'max_depth': 4, 'max_features': 'sqrt', 'min_samples_split': 10, 'n_estimators': 100}\n",
      "Accuracy migliore: 0.7950485233784369\n"
     ]
    }
   ],
   "source": [
    "from sklearn.model_selection import GridSearchCV\n",
    "\n",
    "parametri = {\n",
    "    'n_estimators': [100, 150, 350],\n",
    "    'max_depth': [4, 10, 25],\n",
    "    'min_samples_split': [2, 5, 10],\n",
    "    'max_features': ['sqrt', 'log2']\n",
    "}\n",
    "\n",
    "grid = GridSearchCV(RandomForestClassifier(random_state=42), parametri, cv=5, scoring='precision', n_jobs=-1)\n",
    "grid.fit(xtrain, ytrain)\n",
    "\n",
    "print(\"Migliori parametri:\", grid.best_params_)\n",
    "print(\"Accuracy migliore:\", grid.best_score_)\n"
   ]
  },
  {
   "cell_type": "code",
   "execution_count": 26,
   "id": "c0bf8da6",
   "metadata": {
    "execution": {
     "iopub.execute_input": "2025-05-31T09:21:41.932314Z",
     "iopub.status.busy": "2025-05-31T09:21:41.931976Z",
     "iopub.status.idle": "2025-05-31T09:22:36.162600Z",
     "shell.execute_reply": "2025-05-31T09:22:36.161631Z"
    },
    "papermill": {
     "duration": 54.260663,
     "end_time": "2025-05-31T09:22:36.177984",
     "exception": false,
     "start_time": "2025-05-31T09:21:41.917321",
     "status": "completed"
    },
    "tags": []
   },
   "outputs": [
    {
     "name": "stdout",
     "output_type": "stream",
     "text": [
      "Migliori parametri: {'max_depth': 7, 'max_features': 'sqrt', 'min_samples_split': 13, 'n_estimators': 125}\n",
      "Precisione migliore: 0.7964739981227421\n"
     ]
    }
   ],
   "source": [
    "parametri = {\n",
    "    'n_estimators': [75, 100, 125],\n",
    "    'max_depth': [None, 2, 4, 7],\n",
    "    'min_samples_split': [7, 10, 13],\n",
    "    'max_features': ['sqrt', 'log2']\n",
    "}\n",
    "\n",
    "grid = GridSearchCV(RandomForestClassifier(random_state=42), parametri, cv=5, scoring='precision', n_jobs=-1)\n",
    "grid.fit(xtrain, ytrain)\n",
    "\n",
    "print(\"Migliori parametri:\", grid.best_params_)\n",
    "print(\"Precisione migliore:\", grid.best_score_)\n"
   ]
  },
  {
   "cell_type": "code",
   "execution_count": 27,
   "id": "2631d838",
   "metadata": {
    "execution": {
     "iopub.execute_input": "2025-05-31T09:22:36.207044Z",
     "iopub.status.busy": "2025-05-31T09:22:36.206211Z",
     "iopub.status.idle": "2025-05-31T09:23:01.158225Z",
     "shell.execute_reply": "2025-05-31T09:23:01.157105Z"
    },
    "papermill": {
     "duration": 24.968521,
     "end_time": "2025-05-31T09:23:01.160268",
     "exception": false,
     "start_time": "2025-05-31T09:22:36.191747",
     "status": "completed"
    },
    "tags": []
   },
   "outputs": [
    {
     "name": "stdout",
     "output_type": "stream",
     "text": [
      "Migliori parametri: {'max_depth': 7, 'max_features': 'sqrt', 'min_samples_split': 16, 'n_estimators': 135}\n",
      "Precisione migliore: 0.7968536042506356\n"
     ]
    }
   ],
   "source": [
    "parametri = {\n",
    "    'n_estimators': [115, 125, 135],\n",
    "    'max_depth': [4, 7, 9],\n",
    "    'min_samples_split': [10, 13, 16],\n",
    "    'max_features': ['sqrt']\n",
    "}\n",
    "\n",
    "grid = GridSearchCV(RandomForestClassifier(random_state=42), parametri, cv=5, scoring='precision', n_jobs=-1)\n",
    "grid.fit(xtrain, ytrain)\n",
    "\n",
    "print(\"Migliori parametri:\", grid.best_params_)\n",
    "print(\"Precisione migliore:\", grid.best_score_)\n"
   ]
  },
  {
   "cell_type": "code",
   "execution_count": 28,
   "id": "1332a8c1",
   "metadata": {
    "execution": {
     "iopub.execute_input": "2025-05-31T09:23:01.188549Z",
     "iopub.status.busy": "2025-05-31T09:23:01.188227Z",
     "iopub.status.idle": "2025-05-31T09:23:01.230781Z",
     "shell.execute_reply": "2025-05-31T09:23:01.229735Z"
    },
    "papermill": {
     "duration": 0.058373,
     "end_time": "2025-05-31T09:23:01.232430",
     "exception": false,
     "start_time": "2025-05-31T09:23:01.174057",
     "status": "completed"
    },
    "tags": []
   },
   "outputs": [
    {
     "name": "stdout",
     "output_type": "stream",
     "text": [
      "Accuracy: 0.6990740740740741\n",
      "\n",
      "Report:\n",
      "               precision    recall  f1-score   support\n",
      "\n",
      "           0       0.71      0.68      0.70       762\n",
      "           1       0.69      0.72      0.70       750\n",
      "\n",
      "    accuracy                           0.70      1512\n",
      "   macro avg       0.70      0.70      0.70      1512\n",
      "weighted avg       0.70      0.70      0.70      1512\n",
      "\n"
     ]
    }
   ],
   "source": [
    "bestmodel = grid.best_estimator_\n",
    "ybestpred = bestmodel.predict(xtest)\n",
    "print(\"Accuracy:\", accuracy_score(ytest, ypred))\n",
    "print(\"\\nReport:\\n\", classification_report(ytest, ypred))"
   ]
  },
  {
   "cell_type": "code",
   "execution_count": 29,
   "id": "080b3d83",
   "metadata": {
    "execution": {
     "iopub.execute_input": "2025-05-31T09:23:01.260768Z",
     "iopub.status.busy": "2025-05-31T09:23:01.260474Z",
     "iopub.status.idle": "2025-05-31T09:23:01.341667Z",
     "shell.execute_reply": "2025-05-31T09:23:01.340549Z"
    },
    "papermill": {
     "duration": 0.097126,
     "end_time": "2025-05-31T09:23:01.343338",
     "exception": false,
     "start_time": "2025-05-31T09:23:01.246212",
     "status": "completed"
    },
    "tags": []
   },
   "outputs": [],
   "source": [
    "Y = bestmodel.predict(test)\n",
    "testnew = pd.read_csv('/kaggle/input/spaceship-titanic/test.csv')\n",
    "Id = testnew['PassengerId']\n",
    "submit = pd.DataFrame(Id)"
   ]
  },
  {
   "cell_type": "code",
   "execution_count": 30,
   "id": "fae44ea4",
   "metadata": {
    "execution": {
     "iopub.execute_input": "2025-05-31T09:23:01.372011Z",
     "iopub.status.busy": "2025-05-31T09:23:01.371676Z",
     "iopub.status.idle": "2025-05-31T09:23:01.517248Z",
     "shell.execute_reply": "2025-05-31T09:23:01.515136Z"
    },
    "papermill": {
     "duration": 0.162005,
     "end_time": "2025-05-31T09:23:01.519147",
     "exception": true,
     "start_time": "2025-05-31T09:23:01.357142",
     "status": "failed"
    },
    "tags": []
   },
   "outputs": [
    {
     "ename": "ValueError",
     "evalue": "Length of values (3747) does not match length of index (4277)",
     "output_type": "error",
     "traceback": [
      "\u001b[0;31m---------------------------------------------------------------------------\u001b[0m",
      "\u001b[0;31mValueError\u001b[0m                                Traceback (most recent call last)",
      "\u001b[0;32m/tmp/ipykernel_13/2432495933.py\u001b[0m in \u001b[0;36m<cell line: 0>\u001b[0;34m()\u001b[0m\n\u001b[0;32m----> 1\u001b[0;31m \u001b[0msubmit\u001b[0m\u001b[0;34m[\u001b[0m\u001b[0;34m'Transported'\u001b[0m\u001b[0;34m]\u001b[0m \u001b[0;34m=\u001b[0m \u001b[0mY\u001b[0m\u001b[0;34m\u001b[0m\u001b[0;34m\u001b[0m\u001b[0m\n\u001b[0m\u001b[1;32m      2\u001b[0m \u001b[0msubmit\u001b[0m\u001b[0;34m[\u001b[0m\u001b[0;34m'Transported'\u001b[0m\u001b[0;34m]\u001b[0m \u001b[0;34m=\u001b[0m \u001b[0msubmit\u001b[0m\u001b[0;34m[\u001b[0m\u001b[0;34m'Transported'\u001b[0m\u001b[0;34m]\u001b[0m\u001b[0;34m.\u001b[0m\u001b[0mastype\u001b[0m\u001b[0;34m(\u001b[0m\u001b[0mbool\u001b[0m\u001b[0;34m)\u001b[0m\u001b[0;34m\u001b[0m\u001b[0;34m\u001b[0m\u001b[0m\n\u001b[1;32m      3\u001b[0m \u001b[0msubmit\u001b[0m\u001b[0;34m.\u001b[0m\u001b[0mhead\u001b[0m\u001b[0;34m(\u001b[0m\u001b[0;34m)\u001b[0m\u001b[0;34m\u001b[0m\u001b[0;34m\u001b[0m\u001b[0m\n",
      "\u001b[0;32m/usr/local/lib/python3.11/dist-packages/pandas/core/frame.py\u001b[0m in \u001b[0;36m__setitem__\u001b[0;34m(self, key, value)\u001b[0m\n\u001b[1;32m   4309\u001b[0m         \u001b[0;32melse\u001b[0m\u001b[0;34m:\u001b[0m\u001b[0;34m\u001b[0m\u001b[0;34m\u001b[0m\u001b[0m\n\u001b[1;32m   4310\u001b[0m             \u001b[0;31m# set column\u001b[0m\u001b[0;34m\u001b[0m\u001b[0;34m\u001b[0m\u001b[0m\n\u001b[0;32m-> 4311\u001b[0;31m             \u001b[0mself\u001b[0m\u001b[0;34m.\u001b[0m\u001b[0m_set_item\u001b[0m\u001b[0;34m(\u001b[0m\u001b[0mkey\u001b[0m\u001b[0;34m,\u001b[0m \u001b[0mvalue\u001b[0m\u001b[0;34m)\u001b[0m\u001b[0;34m\u001b[0m\u001b[0;34m\u001b[0m\u001b[0m\n\u001b[0m\u001b[1;32m   4312\u001b[0m \u001b[0;34m\u001b[0m\u001b[0m\n\u001b[1;32m   4313\u001b[0m     \u001b[0;32mdef\u001b[0m \u001b[0m_setitem_slice\u001b[0m\u001b[0;34m(\u001b[0m\u001b[0mself\u001b[0m\u001b[0;34m,\u001b[0m \u001b[0mkey\u001b[0m\u001b[0;34m:\u001b[0m \u001b[0mslice\u001b[0m\u001b[0;34m,\u001b[0m \u001b[0mvalue\u001b[0m\u001b[0;34m)\u001b[0m \u001b[0;34m->\u001b[0m \u001b[0;32mNone\u001b[0m\u001b[0;34m:\u001b[0m\u001b[0;34m\u001b[0m\u001b[0;34m\u001b[0m\u001b[0m\n",
      "\u001b[0;32m/usr/local/lib/python3.11/dist-packages/pandas/core/frame.py\u001b[0m in \u001b[0;36m_set_item\u001b[0;34m(self, key, value)\u001b[0m\n\u001b[1;32m   4522\u001b[0m         \u001b[0mensure\u001b[0m \u001b[0mhomogeneity\u001b[0m\u001b[0;34m.\u001b[0m\u001b[0;34m\u001b[0m\u001b[0;34m\u001b[0m\u001b[0m\n\u001b[1;32m   4523\u001b[0m         \"\"\"\n\u001b[0;32m-> 4524\u001b[0;31m         \u001b[0mvalue\u001b[0m\u001b[0;34m,\u001b[0m \u001b[0mrefs\u001b[0m \u001b[0;34m=\u001b[0m \u001b[0mself\u001b[0m\u001b[0;34m.\u001b[0m\u001b[0m_sanitize_column\u001b[0m\u001b[0;34m(\u001b[0m\u001b[0mvalue\u001b[0m\u001b[0;34m)\u001b[0m\u001b[0;34m\u001b[0m\u001b[0;34m\u001b[0m\u001b[0m\n\u001b[0m\u001b[1;32m   4525\u001b[0m \u001b[0;34m\u001b[0m\u001b[0m\n\u001b[1;32m   4526\u001b[0m         if (\n",
      "\u001b[0;32m/usr/local/lib/python3.11/dist-packages/pandas/core/frame.py\u001b[0m in \u001b[0;36m_sanitize_column\u001b[0;34m(self, value)\u001b[0m\n\u001b[1;32m   5264\u001b[0m \u001b[0;34m\u001b[0m\u001b[0m\n\u001b[1;32m   5265\u001b[0m         \u001b[0;32mif\u001b[0m \u001b[0mis_list_like\u001b[0m\u001b[0;34m(\u001b[0m\u001b[0mvalue\u001b[0m\u001b[0;34m)\u001b[0m\u001b[0;34m:\u001b[0m\u001b[0;34m\u001b[0m\u001b[0;34m\u001b[0m\u001b[0m\n\u001b[0;32m-> 5266\u001b[0;31m             \u001b[0mcom\u001b[0m\u001b[0;34m.\u001b[0m\u001b[0mrequire_length_match\u001b[0m\u001b[0;34m(\u001b[0m\u001b[0mvalue\u001b[0m\u001b[0;34m,\u001b[0m \u001b[0mself\u001b[0m\u001b[0;34m.\u001b[0m\u001b[0mindex\u001b[0m\u001b[0;34m)\u001b[0m\u001b[0;34m\u001b[0m\u001b[0;34m\u001b[0m\u001b[0m\n\u001b[0m\u001b[1;32m   5267\u001b[0m         \u001b[0marr\u001b[0m \u001b[0;34m=\u001b[0m \u001b[0msanitize_array\u001b[0m\u001b[0;34m(\u001b[0m\u001b[0mvalue\u001b[0m\u001b[0;34m,\u001b[0m \u001b[0mself\u001b[0m\u001b[0;34m.\u001b[0m\u001b[0mindex\u001b[0m\u001b[0;34m,\u001b[0m \u001b[0mcopy\u001b[0m\u001b[0;34m=\u001b[0m\u001b[0;32mTrue\u001b[0m\u001b[0;34m,\u001b[0m \u001b[0mallow_2d\u001b[0m\u001b[0;34m=\u001b[0m\u001b[0;32mTrue\u001b[0m\u001b[0;34m)\u001b[0m\u001b[0;34m\u001b[0m\u001b[0;34m\u001b[0m\u001b[0m\n\u001b[1;32m   5268\u001b[0m         if (\n",
      "\u001b[0;32m/usr/local/lib/python3.11/dist-packages/pandas/core/common.py\u001b[0m in \u001b[0;36mrequire_length_match\u001b[0;34m(data, index)\u001b[0m\n\u001b[1;32m    571\u001b[0m     \"\"\"\n\u001b[1;32m    572\u001b[0m     \u001b[0;32mif\u001b[0m \u001b[0mlen\u001b[0m\u001b[0;34m(\u001b[0m\u001b[0mdata\u001b[0m\u001b[0;34m)\u001b[0m \u001b[0;34m!=\u001b[0m \u001b[0mlen\u001b[0m\u001b[0;34m(\u001b[0m\u001b[0mindex\u001b[0m\u001b[0;34m)\u001b[0m\u001b[0;34m:\u001b[0m\u001b[0;34m\u001b[0m\u001b[0;34m\u001b[0m\u001b[0m\n\u001b[0;32m--> 573\u001b[0;31m         raise ValueError(\n\u001b[0m\u001b[1;32m    574\u001b[0m             \u001b[0;34m\"Length of values \"\u001b[0m\u001b[0;34m\u001b[0m\u001b[0;34m\u001b[0m\u001b[0m\n\u001b[1;32m    575\u001b[0m             \u001b[0;34mf\"({len(data)}) \"\u001b[0m\u001b[0;34m\u001b[0m\u001b[0;34m\u001b[0m\u001b[0m\n",
      "\u001b[0;31mValueError\u001b[0m: Length of values (3747) does not match length of index (4277)"
     ]
    }
   ],
   "source": [
    "submit['Transported'] = Y\n",
    "submit['Transported'] = submit['Transported'].astype(bool)\n",
    "submit.head()"
   ]
  },
  {
   "cell_type": "code",
   "execution_count": null,
   "id": "97ba9a13",
   "metadata": {
    "papermill": {
     "duration": null,
     "end_time": null,
     "exception": null,
     "start_time": null,
     "status": "pending"
    },
    "tags": []
   },
   "outputs": [],
   "source": [
    "submit.to_csv('submission.csv', index=True)"
   ]
  }
 ],
 "metadata": {
  "kaggle": {
   "accelerator": "none",
   "dataSources": [
    {
     "databundleVersionId": 3220602,
     "sourceId": 34377,
     "sourceType": "competition"
    }
   ],
   "dockerImageVersionId": 31040,
   "isGpuEnabled": false,
   "isInternetEnabled": true,
   "language": "python",
   "sourceType": "notebook"
  },
  "kernelspec": {
   "display_name": "Python 3",
   "language": "python",
   "name": "python3"
  },
  "language_info": {
   "codemirror_mode": {
    "name": "ipython",
    "version": 3
   },
   "file_extension": ".py",
   "mimetype": "text/x-python",
   "name": "python",
   "nbconvert_exporter": "python",
   "pygments_lexer": "ipython3",
   "version": "3.11.11"
  },
  "papermill": {
   "default_parameters": {},
   "duration": 193.833227,
   "end_time": "2025-05-31T09:23:04.155832",
   "environment_variables": {},
   "exception": true,
   "input_path": "__notebook__.ipynb",
   "output_path": "__notebook__.ipynb",
   "parameters": {},
   "start_time": "2025-05-31T09:19:50.322605",
   "version": "2.6.0"
  }
 },
 "nbformat": 4,
 "nbformat_minor": 5
}
